{
 "cells": [
  {
   "cell_type": "code",
   "execution_count": 2,
   "metadata": {},
   "outputs": [],
   "source": [
    "import os\n",
    "import pickle\n",
    "import linecache\n",
    "\n",
    "import re\n",
    "from collections import *\n",
    "import time\n",
    "import sys\n",
    "\n",
    "import Stemmer\n",
    "import nltk\n",
    "nltk.download('stopwords')\n",
    "from nltk.corpus import stopwords\n",
    "stop_words = set(stopwords.words('english')) "
   ]
  },
  {
   "cell_type": "code",
   "execution_count": 3,
   "metadata": {},
   "outputs": [],
   "source": [
    "index_path = './'"
   ]
  },
  {
   "cell_type": "code",
   "execution_count": 4,
   "metadata": {},
   "outputs": [],
   "source": [
    "stemmer = Stemmer.Stemmer('english')"
   ]
  },
  {
   "cell_type": "code",
   "execution_count": 5,
   "metadata": {},
   "outputs": [],
   "source": [
    "file = open(index_path + 'word_positions.pickle','rb')\n",
    "word_positions             =  pickle.load(file)\n",
    "file.close()\n",
    "file = open(index_path + 'title_position.pickle','rb')\n",
    "title_list,title_position  =  pickle.load(file)\n",
    "file.close()"
   ]
  },
  {
   "cell_type": "code",
   "execution_count": 21,
   "metadata": {},
   "outputs": [],
   "source": [
    "def search(index_path, queries, word_positions = word_positions, title_list = title_list, title_position = title_position):\n",
    "        \n",
    "    fields_list = ['t','b','c','i','r','e']\n",
    "        \n",
    "    search_output = []\n",
    "    \n",
    "    for query in queries:\n",
    "        \n",
    "        flag = 0\n",
    "        result = []\n",
    "        \n",
    "        if ':' in query:\n",
    "            querio = re.sub(r'\\w:',r'|',query).strip('|').split('|')\n",
    "            fields = re.findall(r'\\w:',query)\n",
    "            fields = [f.split(':')[0] for f in fields]\n",
    "                        \n",
    "            for field,quer in zip(fields,querio):\n",
    "                \n",
    "                flag2 = 0\n",
    "                sub_result = []\n",
    "                \n",
    "                query_words = quer.strip().split(' ')\n",
    "                \n",
    "                for word in query_words:\n",
    "                    \n",
    "                    word = stemmer.stemWord(word.lower())\n",
    "\n",
    "                    if(word not in stop_words):\n",
    "                        if(word in word_positions[field]):\n",
    "                            \n",
    "                            word_posting = linecache.getline(index_path + field + '_1.txt',word_positions[field][word])[:-1]\n",
    "                            docs = [posting.split(':')[0] for posting in word_posting.split('|')]\n",
    "                            \n",
    "                            if(not flag2):\n",
    "                                sub_result = list(set(sub_result) | set(docs))\n",
    "                                flag2 = 1\n",
    "                            else:\n",
    "                                sub_result = list(set(sub_result) & set(docs))\n",
    "                            \n",
    "                            \n",
    "                            if(not flag):\n",
    "                                result = list(set(result) | set(docs))\n",
    "                                flag = 1\n",
    "                            else:\n",
    "                                result = list(set(result) & set(docs))\n",
    "                        else:\n",
    "                            result = []\n",
    "                print('\\nPosting List of',quer,'for field',field,':',sub_result)\n",
    "                            \n",
    "        else:\n",
    "            general_queries = query.split(' ')\n",
    "            \n",
    "            for gquery in general_queries:\n",
    "                \n",
    "                query_words = gquery.split(' ')\n",
    "                \n",
    "                for word in query_words:\n",
    "                    \n",
    "                    word = stemmer.stemWord(word.lower())\n",
    "                    \n",
    "#                     for field in fields_list:\n",
    "                    field = 'b'\n",
    "                    if(word not in stop_words):\n",
    "                        if(word in word_positions[field]):\n",
    "\n",
    "                            word_posting = linecache.getline(index_path + field + '_1.txt',word_positions[field][word])[:-1]\n",
    "                            docs = [posting.split(':')[0] for posting in word_posting.split('|')]\n",
    "\n",
    "                            if(not flag):\n",
    "                                result = list(set(result) | set(docs))\n",
    "                                flag = 1\n",
    "                            else:\n",
    "                                result = list(set(result) & set(docs))\n",
    "                                \n",
    "            print('Posting List: ',result)\n",
    "            \n",
    "            \n",
    "        if(result):\n",
    "            doc_titles = []\n",
    "            for doc in result:\n",
    "                doc_titles.append(title_list[int(doc)-1])\n",
    "            search_output.append(doc_titles)\n",
    "        else:\n",
    "            search_output.append(['No results found'])\n",
    "        \n",
    "    \n",
    "    return search_output"
   ]
  },
  {
   "cell_type": "code",
   "execution_count": 26,
   "metadata": {},
   "outputs": [
    {
     "name": "stdout",
     "output_type": "stream",
     "text": [
      "Posting List:  []\n",
      "0.0005048999992141034\n"
     ]
    }
   ],
   "source": [
    "start = time.perf_counter()\n",
    "result = search(index_path,['and'])\n",
    "end = time.perf_counter()\n",
    "print(end - start)"
   ]
  },
  {
   "cell_type": "code",
   "execution_count": null,
   "metadata": {},
   "outputs": [],
   "source": [
    "\n",
    "\n"
   ]
  }
 ],
 "metadata": {
  "kernelspec": {
   "display_name": "Python 3",
   "language": "python",
   "name": "python3"
  },
  "language_info": {
   "codemirror_mode": {
    "name": "ipython",
    "version": 3
   },
   "file_extension": ".py",
   "mimetype": "text/x-python",
   "name": "python",
   "nbconvert_exporter": "python",
   "pygments_lexer": "ipython3",
   "version": "3.7.7"
  }
 },
 "nbformat": 4,
 "nbformat_minor": 4
}
